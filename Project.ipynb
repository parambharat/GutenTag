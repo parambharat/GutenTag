{
 "cells": [
  {
   "cell_type": "code",
   "execution_count": 1,
   "metadata": {
    "collapsed": false
   },
   "outputs": [],
   "source": [
    "import settings\n",
    "import logging\n",
    "import os\n",
    "from time import time\n",
    "log_file = os.path.join(settings.project_root, 'tmp', 'Project.log')\n",
    "logging.root.handlers = []  # Jupyter messes up logging so needs a reset\n",
    "logger = logging.getLogger('text_similar')\n",
    "logging.basicConfig(format='%(asctime)s : %(levelname)s : %(message)s',  level=logging.DEBUG, filename=log_file)"
   ]
  },
  {
   "cell_type": "code",
   "execution_count": 2,
   "metadata": {
    "collapsed": true
   },
   "outputs": [],
   "source": [
    "%matplotlib inline\n",
    "import pandas as pd\n",
    "import numpy as np\n",
    "import gensim\n",
    "from sklearn.cross_validation import train_test_split\n",
    "from sklearn import linear_model\n",
    "from sklearn.feature_extraction.text import CountVectorizer, TfidfVectorizer\n",
    "from sklearn.decomposition import LatentDirichletAllocation\n",
    "from sklearn.metrics import accuracy_score, confusion_matrix, f1_score\n",
    "import matplotlib.pyplot as plt"
   ]
  },
  {
   "cell_type": "code",
   "execution_count": 3,
   "metadata": {
    "collapsed": false
   },
   "outputs": [],
   "source": [
    "data_file = os.path.join(settings.project_root, 'tmp', 'data_file.csv')\n",
    "logger.info('Loading data into dataFrame')\n",
    "df = pd.DataFrame([line.split(',') for line in open(data_file)], columns=['genre', 'story'])\n",
    "logger.info('Size of dataFrame = {}'.format(df.memory_usage().sum()/(1024*1024)))"
   ]
  },
  {
   "cell_type": "code",
   "execution_count": 4,
   "metadata": {
    "collapsed": true
   },
   "outputs": [],
   "source": [
    "test_size = 0.15\n",
    "logger.info('Creating Train-text split with test_size = {}'.format(test_size))\n",
    "train_data, test_data = train_test_split(df, test_size=test_size, random_state=42)"
   ]
  },
  {
   "cell_type": "code",
   "execution_count": 41,
   "metadata": {
    "collapsed": true
   },
   "outputs": [],
   "source": [
    "genres = df['genre'].unique()\n",
    "def plot_confusion_matrix(cm, title='Confusion matrix', cmap=plt.cm.Blues):\n",
    "    plt.imshow(cm, interpolation='nearest', cmap=cmap)\n",
    "    plt.title(title)\n",
    "    plt.colorbar()\n",
    "    tick_marks = np.arange(len(genres))\n",
    "    target_names = genres\n",
    "    plt.xticks(tick_marks, target_names, rotation=45)\n",
    "    plt.yticks(tick_marks, target_names)\n",
    "    plt.tight_layout()\n",
    "    plt.ylabel('True label')\n",
    "    plt.xlabel('Predicted label')\n",
    "\n",
    "def evaluate_prediction(predictions, target, title=\"Confusion matrix\"):\n",
    "    print((target.shape, predictions.shape))\n",
    "    print('accuracy %s' % accuracy_score(target, predictions))\n",
    "    print('f1_Score : {}'.format(f1_score(target, predictions), labels=genres, pos_label=None, average='weighted'))\n",
    "    cm = confusion_matrix(target, predictions)\n",
    "    print('confusion matrix\\n %s' % cm)\n",
    "    print('(row=expected, col=predicted)')\n",
    "    \n",
    "    cm_normalized = cm.astype('float') / cm.sum(axis=1)[:, np.newaxis]\n",
    "    logger.info('plotting confusion matrix')\n",
    "    plot_confusion_matrix(cm_normalized, title + ' Normalized')\n",
    "\n",
    "def predict(model, classifier, data, labels, f_name):\n",
    "    tick = time()\n",
    "    logger.info('transforming features')\n",
    "    data_features = get_transformed(data, model, f_name)\n",
    "    logger.info('feature transformation complete, time taken: {}'.format(round(time()-tick)))\n",
    "    \n",
    "    tick = time()\n",
    "    logger.info('predicting labels')\n",
    "    predictions = classifier.predict(data_features)\n",
    "    logger.info('labels predicted, time taken: {}'.format(round(time()-tick)))\n",
    "\n",
    "    tick = time()\n",
    "    logger.info('evaluating predictions')\n",
    "    target = labels\n",
    "    evaluate_prediction(predictions, target)\n",
    "    logger.info('evaluating complete in {}'.format(round(time()-tick)))\n",
    "    "
   ]
  },
  {
   "cell_type": "code",
   "execution_count": 6,
   "metadata": {
    "collapsed": true
   },
   "outputs": [],
   "source": [
    "def train_classifier(features, labels, f_name=None):\n",
    "    if os.path.isfile(f_name):\n",
    "        logger.info('Loading logreg classifier from {}'.format(f_name))\n",
    "        logreg = save_load(f_name, opt='load')\n",
    "    else:\n",
    "        logreg = linear_model.LogisticRegression(n_jobs=-1, C=1e5)\n",
    "        tick = time()\n",
    "        logger.info('training logistic regression model')\n",
    "        logreg = logreg.fit(features, labels)\n",
    "        logger.info('training complete, time taken: {}'.format(round(time()-tick)))\n",
    "        logger.info('Saving logreg classifier at {}'.format(f_name))\n",
    "        save_load(f_name, opt='save', material=logreg)\n",
    "    return logreg"
   ]
  },
  {
   "cell_type": "code",
   "execution_count": 7,
   "metadata": {
    "collapsed": true
   },
   "outputs": [],
   "source": [
    "STOPWORDS = \"\"\"\n",
    "a about above across after afterwards again against all almost alone along already also although always am among amongst amoungst amount an and another any anyhow anyone anything anyway anywhere are around as at back be\n",
    "became because become becomes becoming been before beforehand behind being below beside besides between beyond bill both bottom but by call can\n",
    "cannot cant co computer con could couldnt cry de describe\n",
    "detail did didn do does doesn doing don done down due during\n",
    "each eg eight either eleven else elsewhere empty enough etc even ever every everyone everything everywhere except few fifteen\n",
    "fify fill find fire first five for former formerly forty found four from front full further get give go\n",
    "had hand has hasnt have he head hence her here hereafter hereby herein hereupon hers herself him himself his how however hundred i ie\n",
    "if in inc indeed interest into is it its itself keep last latter latterly least less ltd\n",
    "just\n",
    "kg km\n",
    "made make many may me meanwhile might mill mine more moreover most mostly move much must my myself name namely\n",
    "neither never nevertheless next nine no nobody none noone nor not nothing now nowhere of off\n",
    "often on once one only onto or other others otherwise our ours ourselves out over own part per\n",
    "perhaps please put rather re\n",
    "quite\n",
    "rather really regarding\n",
    "same say said see seem seemed seeming seems serious several she should show side since sincere six sixty so some somehow someone something sometime sometimes somewhere still such system take ten\n",
    "than that the their them themselves then thence there thereafter thereby therefore therein thereupon these they thick thin third this those though three through throughout thru thus to together too top toward towards twelve twenty two un under\n",
    "until up unless upon us used using\n",
    "various very very via\n",
    "was we well were what whatever when whence whenever where whereafter whereas whereby wherein whereupon wherever whether which while whither who whoever whole whom whose why will with within without would yet you\n",
    "your yours yourself yourselves\n",
    "\"\"\"\n",
    "STOPWORDS = [word for word in STOPWORDS.split()]"
   ]
  },
  {
   "cell_type": "code",
   "execution_count": 8,
   "metadata": {
    "collapsed": false
   },
   "outputs": [],
   "source": [
    "def make_dictionary(docs, loc, stop_words, min_df=5, max_df=0.75, max_features=100000):\n",
    "        if os.path.isfile(loc):\n",
    "            logger.info('loading dictionary from {}'.format(loc))\n",
    "            dictionary = gensim.corpora.Dictionary.load(loc)\n",
    "        else:\n",
    "            logger.info('creating vocabulary for documents')\n",
    "            dictionary = gensim.corpora.Dictionary(documents = (gensim.parsing.preprocess_string(doc) for doc in docs))\n",
    "\n",
    "            dictionary.filter_extremes(no_below=min_df,\n",
    "                                       no_above=max_df,\n",
    "                                       keep_n=max_features)\n",
    "\n",
    "            stop_ids = [dictionary.token2id[token] for token in\n",
    "                        dictionary.itervalues() if token in stop_words]\n",
    "            remove_ids = [dictionary.token2id[token] for token in\n",
    "                          dictionary.itervalues() if len(token) < 3]\n",
    "            dictionary.filter_tokens(stop_ids + remove_ids)\n",
    "\n",
    "            dictionary.compactify()\n",
    "            logger.info('Saving dictionary at {}'.format(loc))\n",
    "            dictionary.save(loc)\n",
    "        return dictionary"
   ]
  },
  {
   "cell_type": "code",
   "execution_count": 9,
   "metadata": {
    "collapsed": false
   },
   "outputs": [],
   "source": [
    "tick = time()\n",
    "tmp_dir = os.path.join(settings.project_root, 'tmp', 'novel')\n",
    "dict_file = os.path.join(tmp_dir, 'project.dict')\n",
    "dictionary = make_dictionary(docs=train_data['story'], loc=dict_file, stop_words=STOPWORDS)\n",
    "logger.info('Created dictionary in {} s'.format(round(time()-tick)))"
   ]
  },
  {
   "cell_type": "code",
   "execution_count": 10,
   "metadata": {
    "collapsed": false
   },
   "outputs": [],
   "source": [
    "import cPickle as pickle\n",
    "def save_load(path, opt, material=None):\n",
    "    if opt=='save':\n",
    "        logger.info('Dumping material in {}'.format(path))\n",
    "        pickle.dump(material, open(path, 'wb'))\n",
    "    elif opt=='load':\n",
    "        material = pickle.load(open(path, 'rb'))\n",
    "        return material\n",
    "    else:\n",
    "        raise NotImplementerError"
   ]
  },
  {
   "cell_type": "code",
   "execution_count": 20,
   "metadata": {
    "collapsed": false
   },
   "outputs": [],
   "source": [
    "def train_transformer(train_data, dictionary, stop_words, model, f_name=None):\n",
    "    if os.path.isfile(f_name):\n",
    "        tick = time()\n",
    "        logger.info('loading trained model from {}'.format(f_name))\n",
    "        model = save_load(f_name, opt='load')\n",
    "    else:\n",
    "        tick = time()\n",
    "        logger.info('Creating model')\n",
    "        model.fit(train_data)\n",
    "        logger.info('Created model in : {}'.format(round(time()-tick),3))\n",
    "        logger.info('Saving model at {}'.format(f_name))\n",
    "        save_load(f_name, opt='save', material=model )\n",
    "    return model"
   ]
  },
  {
   "cell_type": "code",
   "execution_count": 12,
   "metadata": {
    "collapsed": true
   },
   "outputs": [],
   "source": [
    "def get_transformed(data, model, f_name=None):\n",
    "    if os.path.isfile(f_name):\n",
    "        logger.info('Loading transformed data from {}'.format(f_name))\n",
    "        features = save_load(f_name, opt='load')\n",
    "    else:\n",
    "        tick = time()\n",
    "        logger.info('Transforming data')\n",
    "        features = model.transform(data)\n",
    "        logger.info('Transformation complete in : {}'.format(round(time()-tick),3))\n",
    "        logger.info('Saving transformed data at {}'.format(f_name))\n",
    "        save_load(f_name, opt='save', material=features)\n",
    "    return features"
   ]
  },
  {
   "cell_type": "code",
   "execution_count": 13,
   "metadata": {
    "collapsed": true
   },
   "outputs": [],
   "source": [
    "count_vectorizer = CountVectorizer(analyzer=\"word\", \n",
    "                                           tokenizer=gensim.parsing.preprocess_string,\n",
    "                                           preprocessor=None,\n",
    "                                           stop_words='english',\n",
    "                                           vocabulary= {value:key for key, value in dictionary.iteritems()},\n",
    "                                           max_features = 100000,\n",
    "                                           max_df=0.75,\n",
    "                                           min_df=5\n",
    "                                           )"
   ]
  },
  {
   "cell_type": "code",
   "execution_count": 14,
   "metadata": {
    "collapsed": false
   },
   "outputs": [],
   "source": [
    "bow_model_file = os.path.join(tmp_dir, 'bow.model')\n",
    "bow_model  = train_transformer(train_data=train_data['story'], dictionary=dictionary, stop_words=STOPWORDS, model=count_vectorizer, f_name=bow_model_file)"
   ]
  },
  {
   "cell_type": "code",
   "execution_count": 15,
   "metadata": {
    "collapsed": false
   },
   "outputs": [],
   "source": [
    "bow_train_file = os.path.join(tmp_dir,'train_bow.dat')\n",
    "bow_features = get_transformed(data=train_data['story'], model=bow_model, f_name=bow_train_file)"
   ]
  },
  {
   "cell_type": "code",
   "execution_count": 16,
   "metadata": {
    "collapsed": false
   },
   "outputs": [],
   "source": [
    "bow_logreg_file = os.path.join(tmp_dir, 'bow_logreg.model')\n",
    "bow_logreg = train_classifier(bow_features,train_data['genre'], f_name=bow_logreg_file)"
   ]
  },
  {
   "cell_type": "code",
   "execution_count": 17,
   "metadata": {
    "collapsed": false
   },
   "outputs": [
    {
     "name": "stdout",
     "output_type": "stream",
     "text": [
      "accuracy 0.669333333333\n",
      "f1_Score : 0.670045748041\n",
      "confusion matrix\n",
      " [[2106  287  292  124  192]\n",
      " [ 320 1840  491  155  209]\n",
      " [ 352  503 1711  118  290]\n",
      " [ 160  209  147 2329  166]\n",
      " [ 219  308  273  145 2054]]\n",
      "(row=expected, col=predicted)\n"
     ]
    },
    {
     "name": "stderr",
     "output_type": "stream",
     "text": [
      "C:\\Users\\param_000\\Anaconda2\\lib\\site-packages\\sklearn\\metrics\\classification.py:756: DeprecationWarning: The default `weighted` averaging is deprecated, and from version 0.18, use of precision, recall or F-score with multiclass or multilabel data or pos_label=None will result in an exception. Please set an explicit value for `average`, one of (None, 'micro', 'macro', 'weighted', 'samples'). In cross validation use, for instance, scoring=\"f1_weighted\" instead of scoring=\"f1\".\n",
      "  sample_weight=sample_weight)\n"
     ]
    },
    {
     "data": {
      "image/png": "[encoded data removed]",
      "text/plain": [
       "<matplotlib.figure.Figure at 0x33cbfda0>"
      ]
     },
     "metadata": {},
     "output_type": "display_data"
    }
   ],
   "source": [
    "test_bow_file = os.path.join(tmp_dir, 'test_bow.dat')\n",
    "predict(model=bow_model, classifier=bow_logreg, data=test_data['story'], labels=test_data['genre'], f_name=test_bow_file)"
   ]
  },
  {
   "cell_type": "code",
   "execution_count": 21,
   "metadata": {
    "collapsed": false
   },
   "outputs": [],
   "source": [
    "tfidf_vectorizer = TfidfVectorizer(analyzer=\"word\", \n",
    "                                           tokenizer=gensim.parsing.preprocess_string,\n",
    "                                           preprocessor=None,\n",
    "                                           stop_words='english',\n",
    "                                           vocabulary= {value:key for key, value in dictionary.iteritems()},\n",
    "                                           max_features = 100000,\n",
    "                                           max_df=0.75,\n",
    "                                           min_df=5,\n",
    "                                           norm='l2',\n",
    "                                           use_idf=True,\n",
    "                                           smooth_idf=True,\n",
    "                                           sublinear_tf=False)"
   ]
  },
  {
   "cell_type": "code",
   "execution_count": 22,
   "metadata": {
    "collapsed": false
   },
   "outputs": [],
   "source": [
    "tfidf_model_file = os.path.join(tmp_dir, 'tfidf_transformer.model')\n",
    "tfidf_model = train_transformer(train_data=train_data['story'], dictionary=dictionary, stop_words=STOPWORDS, model=tfidf_vectorizer, f_name=tfidf_model_file)"
   ]
  },
  {
   "cell_type": "code",
   "execution_count": 23,
   "metadata": {
    "collapsed": false
   },
   "outputs": [],
   "source": [
    "tfidf_train_file = os.path.join(tmp_dir,'train_tfidf.dat')\n",
    "tfidf_features = get_transformed(train_data['story'], tfidf_model, f_name=tfidf_train_file)"
   ]
  },
  {
   "cell_type": "code",
   "execution_count": 24,
   "metadata": {
    "collapsed": true
   },
   "outputs": [],
   "source": [
    "tfidf_logreg_file = os.path.join(tmp_dir, 'tfidf_logreg.model')\n",
    "tfidf_logreg = train_classifier(tfidf_features, train_data['genre'], f_name=tfidf_logreg_file)"
   ]
  },
  {
   "cell_type": "code",
   "execution_count": 25,
   "metadata": {
    "collapsed": false
   },
   "outputs": [
    {
     "name": "stdout",
     "output_type": "stream",
     "text": [
      "accuracy 0.653666666667\n",
      "f1_Score : 0.653099891862\n",
      "confusion matrix\n",
      " [[2006  327  327  149  192]\n",
      " [ 347 1701  536  188  243]\n",
      " [ 364  539 1599  163  309]\n",
      " [ 163  175  173 2356  144]\n",
      " [ 202  216  267  171 2143]]\n",
      "(row=expected, col=predicted)\n"
     ]
    },
    {
     "name": "stderr",
     "output_type": "stream",
     "text": [
      "C:\\Users\\param_000\\Anaconda2\\lib\\site-packages\\sklearn\\metrics\\classification.py:756: DeprecationWarning: The default `weighted` averaging is deprecated, and from version 0.18, use of precision, recall or F-score with multiclass or multilabel data or pos_label=None will result in an exception. Please set an explicit value for `average`, one of (None, 'micro', 'macro', 'weighted', 'samples'). In cross validation use, for instance, scoring=\"f1_weighted\" instead of scoring=\"f1\".\n",
      "  sample_weight=sample_weight)\n"
     ]
    },
    {
     "data": {
      "image/png": "[encoded data removed]",
      "text/plain": [
       "<matplotlib.figure.Figure at 0x57261a58>"
      ]
     },
     "metadata": {},
     "output_type": "display_data"
    }
   ],
   "source": [
    "test_tfidf_file = os.path.join(tmp_dir, 'test_tfidf.dat')\n",
    "predict(model=tfidf_model, classifier=tfidf_logreg, data=test_data['story'], labels=test_data['genre'], f_name=test_tfidf_file)"
   ]
  },
  {
   "cell_type": "code",
   "execution_count": 26,
   "metadata": {
    "collapsed": true
   },
   "outputs": [],
   "source": [
    "lda_model = LatentDirichletAllocation(n_topics=10,\n",
    "                                      doc_topic_prior=None,\n",
    "                                      topic_word_prior=None,\n",
    "                                      learning_method='online',\n",
    "                                      learning_decay=0.7,\n",
    "                                      learning_offset=10.0,\n",
    "                                      max_iter=10,\n",
    "                                      batch_size=128,\n",
    "                                      evaluate_every=-1,\n",
    "                                      total_samples=1000000.0,\n",
    "                                      perp_tol=0.1,\n",
    "                                      mean_change_tol=0.001,\n",
    "                                      max_doc_update_iter=100,\n",
    "                                      n_jobs=-1,\n",
    "                                      verbose=0,\n",
    "                                      random_state=42)"
   ]
  },
  {
   "cell_type": "code",
   "execution_count": 28,
   "metadata": {
    "collapsed": false
   },
   "outputs": [],
   "source": [
    "bow_lda_model_file = os.path.join(tmp_dir, 'bow_lda.model')\n",
    "bow_lda_model = train_transformer(train_data=bow_features, dictionary=dictionary, stop_words=STOPWORDS, model=lda_model, f_name=bow_lda_model_file)"
   ]
  },
  {
   "cell_type": "code",
   "execution_count": 43,
   "metadata": {
    "collapsed": false
   },
   "outputs": [
    {
     "name": "stdout",
     "output_type": "stream",
     "text": [
      "(15000, 72991)\n"
     ]
    }
   ],
   "source": [
    "bow_lda_train_features_file = os.path.join(tmp_dir,'train_bow_lda.dat')\n",
    "bow_lda_train_features = get_transformed(bow_features, bow_lda_model, f_name=bow_lda_train_features_file)\n",
    "bow_test_features_file = os.path.join(tmp_dir,'test_bow.dat')\n",
    "bow_test_features = save_load(bow_test_features_file, opt='load')\n",
    "bow_lda_test_features_file = os.path.join(tmp_dir,'test_bow_lda.dat')"
   ]
  },
  {
   "cell_type": "code",
   "execution_count": 48,
   "metadata": {
    "collapsed": false
   },
   "outputs": [
    {
     "name": "stdout",
     "output_type": "stream",
     "text": [
      "(85000L, 10L) (85000L,)\n"
     ]
    }
   ],
   "source": [
    "bow_lda_logreg_file = os.path.join(tmp_dir, 'bow_lda_logreg.model')\n",
    "bow_lda_logreg = train_classifier(bow_lda_train_features, train_data['genre'], f_name=bow_lda_logreg_file)"
   ]
  },
  {
   "cell_type": "code",
   "execution_count": 51,
   "metadata": {
    "collapsed": false
   },
   "outputs": [
    {
     "name": "stdout",
     "output_type": "stream",
     "text": [
      "(15000, 72991) (15000L,)\n",
      "((15000L,), (15000L,))\n",
      "accuracy 0.4052\n",
      "f1_Score : 0.403880908098\n"
     ]
    },
    {
     "name": "stderr",
     "output_type": "stream",
     "text": [
      "C:\\Users\\param_000\\Anaconda2\\lib\\site-packages\\sklearn\\metrics\\classification.py:756: DeprecationWarning: The default `weighted` averaging is deprecated, and from version 0.18, use of precision, recall or F-score with multiclass or multilabel data or pos_label=None will result in an exception. Please set an explicit value for `average`, one of (None, 'micro', 'macro', 'weighted', 'samples'). In cross validation use, for instance, scoring=\"f1_weighted\" instead of scoring=\"f1\".\n",
      "  sample_weight=sample_weight)\n"
     ]
    },
    {
     "name": "stdout",
     "output_type": "stream",
     "text": [
      "confusion matrix\n",
      " [[1289  797  420  196  299]\n",
      " [ 680 1277  424  346  288]\n",
      " [ 739  812  787  131  505]\n",
      " [ 279  428  108 1745  451]\n",
      " [ 535  519  518  447  980]]\n",
      "(row=expected, col=predicted)\n"
     ]
    },
    {
     "data": {
      "image/png": "[encoded data removed]",
      "text/plain": [
       "<matplotlib.figure.Figure at 0x3305b38>"
      ]
     },
     "metadata": {},
     "output_type": "display_data"
    }
   ],
   "source": [
    "bow_lda_test_file = os.path.join(tmp_dir, 'test_bow_lda.dat')\n",
    "predict(model=bow_lda_model, classifier=bow_lda_logreg, data=bow_test_features, labels=test_data['genre'], f_name=bow_lda_test_file)"
   ]
  },
  {
   "cell_type": "code",
   "execution_count": 53,
   "metadata": {
    "collapsed": false
   },
   "outputs": [],
   "source": [
    "tfidf_lda_model_file = os.path.join(tmp_dir, 'tfidf_lda.model')\n",
    "tfidf_lda_model = train_transformer(train_data=tfidf_features, dictionary=dictionary, stop_words=STOPWORDS, model=lda_model, f_name=tfidf_lda_model_file)"
   ]
  },
  {
   "cell_type": "code",
   "execution_count": 56,
   "metadata": {
    "collapsed": false
   },
   "outputs": [],
   "source": [
    "tfidf_lda_train_features_file = os.path.join(tmp_dir,'train_tfidf_lda.dat')\n",
    "tfidf_lda_train_features = get_transformed(tfidf_features, tfidf_lda_model, f_name=tfidf_lda_train_features_file)\n",
    "tfidf_test_features_file = os.path.join(tmp_dir,'test_tfidf.dat')\n",
    "tfidf_test_features = save_load(tfidf_test_features_file, opt='load')\n",
    "tfidf_lda_test_features_file = os.path.join(tmp_dir,'test_tfidf_lda.dat')"
   ]
  },
  {
   "cell_type": "code",
   "execution_count": 57,
   "metadata": {
    "collapsed": true
   },
   "outputs": [],
   "source": [
    "tfidf_lda_logreg_file = os.path.join(tmp_dir, 'tfidf_lda_logreg.model')\n",
    "tfidf_lda_logreg = train_classifier(tfidf_lda_train_features, train_data['genre'], f_name=tfidf_lda_logreg_file)"
   ]
  },
  {
   "cell_type": "code",
   "execution_count": 59,
   "metadata": {
    "collapsed": false
   },
   "outputs": [
    {
     "name": "stdout",
     "output_type": "stream",
     "text": [
      "((15000L,), (15000L,))\n",
      "accuracy 0.265333333333\n",
      "f1_Score : 0.231916130932\n"
     ]
    },
    {
     "name": "stderr",
     "output_type": "stream",
     "text": [
      "C:\\Users\\param_000\\Anaconda2\\lib\\site-packages\\sklearn\\metrics\\classification.py:756: DeprecationWarning: The default `weighted` averaging is deprecated, and from version 0.18, use of precision, recall or F-score with multiclass or multilabel data or pos_label=None will result in an exception. Please set an explicit value for `average`, one of (None, 'micro', 'macro', 'weighted', 'samples'). In cross validation use, for instance, scoring=\"f1_weighted\" instead of scoring=\"f1\".\n",
      "  sample_weight=sample_weight)\n"
     ]
    },
    {
     "name": "stdout",
     "output_type": "stream",
     "text": [
      "confusion matrix\n",
      " [[1497  318   99  875  212]\n",
      " [1373  537   62  779  264]\n",
      " [1310  406  134  830  294]\n",
      " [1006  277   44 1395  289]\n",
      " [1063  325   83 1111  417]]\n",
      "(row=expected, col=predicted)\n"
     ]
    },
    {
     "data": {
      "image/png": "[encoded data removed]",
      "text/plain": [
       "<matplotlib.figure.Figure at 0x3305ac8>"
      ]
     },
     "metadata": {},
     "output_type": "display_data"
    }
   ],
   "source": [
    "tfidf_lda_test_file = os.path.join(tmp_dir, 'test_tfidf_lda.dat')\n",
    "predict(model=tfidf_lda_model, classifier=tfidf_lda_logreg, data=tfidf_test_features, labels=test_data['genre'], f_name=tfidf_lda_test_file)"
   ]
  },
  {
   "cell_type": "code",
   "execution_count": null,
   "metadata": {
    "collapsed": true
   },
   "outputs": [],
   "source": []
  }
 ],
 "metadata": {
  "anaconda-cloud": {},
  "kernelspec": {
   "display_name": "Python [Root]",
   "language": "python",
   "name": "Python [Root]"
  },
  "language_info": {
   "codemirror_mode": {
    "name": "ipython",
    "version": 2
   },
   "file_extension": ".py",
   "mimetype": "text/x-python",
   "name": "python",
   "nbconvert_exporter": "python",
   "pygments_lexer": "ipython2",
   "version": "2.7.12"
  }
 },
 "nbformat": 4,
 "nbformat_minor": 0
}
