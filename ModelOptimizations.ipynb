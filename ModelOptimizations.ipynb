{
 "cells": [
  {
   "cell_type": "code",
   "execution_count": 1,
   "metadata": {
    "collapsed": true
   },
   "outputs": [],
   "source": [
    "import settings\n",
    "import logging\n",
    "import os\n",
    "from time import time\n",
    "log_file = os.path.join(settings.project_root, 'tmp', 'Model_Optimizations.log')\n",
    "logging.root.handlers = []  # Jupyter messes up logging so needs a reset\n",
    "logger = logging.getLogger('text_similar')\n",
    "logging.basicConfig(format='%(asctime)s : %(levelname)s : %(message)s',  level=logging.DEBUG, filename=log_file)"
   ]
  },
  {
   "cell_type": "code",
   "execution_count": 2,
   "metadata": {
    "collapsed": false
   },
   "outputs": [],
   "source": [
    "%matplotlib inline\n",
    "import pandas as pd\n",
    "import numpy as np\n",
    "import gensim\n",
    "from sklearn.cross_validation import train_test_split\n",
    "from sklearn.feature_extraction.text import CountVectorizer, TfidfTransformer\n",
    "from sklearn.linear_model import SGDClassifier\n",
    "from sklearn.dummy import DummyClassifier\n",
    "from sklearn.decomposition import LatentDirichletAllocation\n",
    "from sklearn.grid_search import RandomizedSearchCV\n",
    "from sklearn.pipeline import Pipeline\n",
    "from sklearn.metrics import accuracy_score, confusion_matrix, f1_score, classification_report\n",
    "from nltk.tokenize import word_tokenize\n",
    "from nltk.stem.wordnet import WordNetLemmatizer\n",
    "import matplotlib.pyplot as plt\n",
    "import seaborn as sns"
   ]
  },
  {
   "cell_type": "code",
   "execution_count": 3,
   "metadata": {
    "collapsed": false
   },
   "outputs": [],
   "source": [
    "STOPWORDS = \"\"\"\n",
    "a about above across after afterwards again against all almost alone along already also although always am among amongst amoungst amount an and another any anyhow anyone anything anyway anywhere are around as at back be\n",
    "became because become becomes becoming been before beforehand behind being below beside besides between beyond bill both bottom but by call can\n",
    "cannot cant co computer con could couldnt cry de describe\n",
    "detail did didn do does doesn doing don done down due during\n",
    "each eg eight either eleven else elsewhere empty enough etc even ever every everyone everything everywhere except few fifteen\n",
    "fify fill find fire first five for former formerly forty found four from front full further get give go\n",
    "had hand has hasnt have he head hence her here hereafter hereby herein hereupon hers herself him himself his how however hundred i ie\n",
    "if in inc indeed interest into is it its itself keep last latter latterly least less ltd\n",
    "just\n",
    "kg km\n",
    "made make many may me meanwhile might mill mine more moreover most mostly move much must my myself name namely\n",
    "neither never nevertheless next nine no nobody none noone nor not nothing now nowhere of off\n",
    "often on once one only onto or other others otherwise our ours ourselves out over own part per\n",
    "perhaps please put rather re\n",
    "quite\n",
    "rather really regarding\n",
    "same say said see seem seemed seeming seems serious several she should show side since sincere six sixty so some somehow someone something sometime sometimes somewhere still such system take ten\n",
    "than that the their them themselves then thence there thereafter thereby therefore therein thereupon these they thick thin third this those though three through throughout thru thus to together too top toward towards twelve twenty two un under\n",
    "until up unless upon us used using\n",
    "various very very via\n",
    "was we well were what whatever when whence whenever where whereafter whereas whereby wherein whereupon wherever whether which while whither who whoever whole whom whose why will with within without would yet you\n",
    "your yours yourself yourselves\n",
    "\"\"\"\n",
    "STOPWORDS = {word for word in STOPWORDS.split()}\n",
    "lemmat = WordNetLemmatizer()\n",
    "def lemmatizer(story):\n",
    "    return ' '.join([lemmat.lemmatize(word.lower()) for word in story.split() if len(word)>3 and word not in STOPWORDS])"
   ]
  },
  {
   "cell_type": "code",
   "execution_count": 4,
   "metadata": {
    "collapsed": true
   },
   "outputs": [],
   "source": [
    "def load_data(f_name):\n",
    "    if os.path.isfile(f_name+'.pickle'):\n",
    "        df = pd.read_pickle(f_name+'.pickle')\n",
    "    else:\n",
    "        logger.info('Loading data into dataFrame')\n",
    "        df = pd.DataFrame([line.split(',') for line in open(f_name+'.csv')], columns=['genre', 'story'])\n",
    "        df['charlen'] = [len(story) for story in df['story']]\n",
    "        df = df[df['charlen']>2000]\n",
    "        df['story'] = df['story'].map(lemmatizer)\n",
    "        final_data_pickle = os.path.join(settings.project_root, 'tmp', 'final_data.pickle')\n",
    "        df.to_pickle(final_data_pickle)\n",
    "    return df"
   ]
  },
  {
   "cell_type": "code",
   "execution_count": 5,
   "metadata": {
    "collapsed": false
   },
   "outputs": [],
   "source": [
    "df = load_data(os.path.join(settings.project_root, 'tmp', 'data_file'))\n",
    "df = df.sample(frac=1).reset_index(drop=True)\n",
    "genres = df['genre'].unique()"
   ]
  },
  {
   "cell_type": "code",
   "execution_count": 6,
   "metadata": {
    "collapsed": false
   },
   "outputs": [],
   "source": [
    "test_size = 0.10\n",
    "logger.info('Creating Train-text split with test_size = {}'.format(test_size))\n",
    "train_data, test_data = train_test_split(df, test_size=test_size, random_state=42)"
   ]
  },
  {
   "cell_type": "code",
   "execution_count": 7,
   "metadata": {
    "collapsed": false
   },
   "outputs": [],
   "source": [
    "def plot_confusion_matrix(cm, title='Confusion matrix', cmap=plt.cm.Blues):\n",
    "    sns.set_context('talk')\n",
    "    sns.heatmap(cm, xticklabels=genres, yticklabels=genres, square=True, annot=True, fmt='.2f') #, cmap=plt.cm.BuGn)\n",
    "    plt.title(title)\n",
    "    plt.ylabel('True labels')\n",
    "    plt.xlabel('Predicted Labels')\n",
    "    plt.show()\n",
    "\n",
    "def evaluate_prediction(predictions, target, title=\"Confusion matrix\"):\n",
    "    print('accuracy %s' % accuracy_score(target, predictions))\n",
    "    print('f1_Score : {}'.format(f1_score(target, predictions), labels=genres, pos_label=None, average='weighted'))\n",
    "    cm = confusion_matrix(target, predictions)\n",
    "    print('confusion matrix\\n %s' % cm)\n",
    "    print('(row=expected, col=predicted)')\n",
    "    print('classification report')\n",
    "    print(classification_report(predictions, target, target_names=genres))\n",
    "    \n",
    "    cm_normalized = cm.astype('float') / cm.sum(axis=1)[:, np.newaxis]\n",
    "    logger.info('plotting confusion matrix')\n",
    "    plot_confusion_matrix(cm_normalized, title + ' Normalized')"
   ]
  },
  {
   "cell_type": "code",
   "execution_count": 8,
   "metadata": {
    "collapsed": false
   },
   "outputs": [],
   "source": [
    "def dummy_predictor(samples):\n",
    "    return np.random.choice(genres, len(samples))\n",
    "baseline_predictions = dummy_predictor(test_data['story'])"
   ]
  },
  {
   "cell_type": "code",
   "execution_count": 9,
   "metadata": {
    "collapsed": false
   },
   "outputs": [
    {
     "name": "stdout",
     "output_type": "stream",
     "text": [
      "accuracy 0.195100123056\n",
      "f1_Score : 0.19510122913\n",
      "confusion matrix\n",
      " [[343 381 350 356 342]\n",
      " [345 335 327 315 345]\n",
      " [344 369 370 367 364]\n",
      " [363 377 403 343 370]\n",
      " [378 368 377 354 353]]\n",
      "(row=expected, col=predicted)\n",
      "classification report\n",
      "              precision    recall  f1-score   support\n",
      "\n",
      "      Sci-Fi       0.19      0.19      0.19      1773\n",
      "     Romance       0.20      0.18      0.19      1830\n",
      "      Family       0.20      0.20      0.20      1827\n",
      "Supernatural       0.18      0.20      0.19      1735\n",
      "       Humor       0.19      0.20      0.20      1774\n",
      "\n",
      " avg / total       0.20      0.20      0.20      8939\n",
      "\n"
     ]
    },
    {
     "name": "stderr",
     "output_type": "stream",
     "text": [
      "C:\\Users\\param_000\\Anaconda2\\lib\\site-packages\\sklearn\\metrics\\classification.py:756: DeprecationWarning: The default `weighted` averaging is deprecated, and from version 0.18, use of precision, recall or F-score with multiclass or multilabel data or pos_label=None will result in an exception. Please set an explicit value for `average`, one of (None, 'micro', 'macro', 'weighted', 'samples'). In cross validation use, for instance, scoring=\"f1_weighted\" instead of scoring=\"f1\".\n",
      "  sample_weight=sample_weight)\n"
     ]
    },
    {
     "data": {
      "image/png": "[encoded data removed]",
      "text/plain": [
       "<matplotlib.figure.Figure at 0x10e42940>"
      ]
     },
     "metadata": {},
     "output_type": "display_data"
    }
   ],
   "source": [
    "evaluate_prediction(baseline_predictions, test_data['genre'])"
   ]
  },
  {
   "cell_type": "code",
   "execution_count": 10,
   "metadata": {
    "collapsed": false
   },
   "outputs": [],
   "source": [
    "bow_params = {'analyzer': 'word',\n",
    "              'tokenizer': word_tokenize,\n",
    "              'max_df': 0.5,\n",
    "              'max_features': 75000,\n",
    "              'min_df': 10\n",
    "             }\n",
    "\n",
    "classifier_params = {'class_weight': 'balanced',\n",
    "                     'loss': 'log',\n",
    "                     'n_iter': 25,\n",
    "                     'penalty': 'elasticnet',\n",
    "                     'random_state': 42,\n",
    "                     'shuffle': True}\n",
    "\n",
    "# tfidf_params = bow_params.copy()\n",
    "tfidf_params = {'norm': 'l1', 'use_idf': True}\n",
    "\n",
    "\n",
    "\n",
    "bow_vectorizer = CountVectorizer(**bow_params)\n",
    "tfidf_vectorizer = TfidfTransformer(**tfidf_params)\n",
    "classifier = SGDClassifier(**classifier_params)"
   ]
  },
  {
   "cell_type": "code",
   "execution_count": 11,
   "metadata": {
    "collapsed": false
   },
   "outputs": [],
   "source": [
    "bow_train = bow_vectorizer.fit_transform(train_data['story'])\n",
    "bow_test = bow_vectorizer.transform(test_data['story'])"
   ]
  },
  {
   "cell_type": "code",
   "execution_count": 12,
   "metadata": {
    "collapsed": false
   },
   "outputs": [],
   "source": [
    "bow_lda_pipeline = Pipeline([('lda',LatentDirichletAllocation(batch_size=1000, n_jobs=-1, random_state=42)),\n",
    "                             ('clf', classifier)\n",
    "                             ])\n",
    "bow_lda_params = {'lda__n_topics': [10, 100, 500],\n",
    "                  'lda__doc_topic_prior': [None, 0.3, 0.6, 0.9],\n",
    "                  'lda__topic_word_prior': [None, 0.3, 0.6, 0.9],\n",
    "                  'lda__learning_decay': [0.5, 0.75, 0.9],\n",
    "                  'lda__max_iter': [10, 100, 250]\n",
    "                  }"
   ]
  },
  {
   "cell_type": "code",
   "execution_count": null,
   "metadata": {
    "collapsed": false
   },
   "outputs": [],
   "source": [
    "bow_lda_search = RandomizedSearchCV(estimator=bow_lda_pipeline,\n",
    "                                    param_distributions=bow_lda_params,\n",
    "                                    n_iter=18,\n",
    "                                    scoring='f1_weighted',\n",
    "                                    n_jobs=-1,\n",
    "                                    verbose=1,\n",
    "                                    random_state=42\n",
    "                                    )"
   ]
  },
  {
   "cell_type": "code",
   "execution_count": null,
   "metadata": {
    "collapsed": false
   },
   "outputs": [
    {
     "name": "stdout",
     "output_type": "stream",
     "text": [
      "Fitting 3 folds for each of 18 candidates, totalling 54 fits\n"
     ]
    }
   ],
   "source": [
    "bow_lda_search.fit(bow_train, train_data['genre'])"
   ]
  },
  {
   "cell_type": "code",
   "execution_count": null,
   "metadata": {
    "collapsed": true
   },
   "outputs": [],
   "source": [
    "bow_lda_search.grid_scores_"
   ]
  },
  {
   "cell_type": "code",
   "execution_count": null,
   "metadata": {
    "collapsed": true
   },
   "outputs": [],
   "source": [
    "bow_lda_search.best_params_ "
   ]
  },
  {
   "cell_type": "code",
   "execution_count": null,
   "metadata": {
    "collapsed": true
   },
   "outputs": [],
   "source": [
    "bow_lda_predictions = bow_lda_search.predict(bow_test)"
   ]
  },
  {
   "cell_type": "code",
   "execution_count": null,
   "metadata": {
    "collapsed": true
   },
   "outputs": [],
   "source": [
    "evaluate_prediction(bow_lda_predictions, test_data['genre'])"
   ]
  },
  {
   "cell_type": "code",
   "execution_count": null,
   "metadata": {
    "collapsed": true
   },
   "outputs": [],
   "source": [
    "tfidf_train = tfidf_vectorizer.fit_transform(bow_train)\n",
    "tfidf_test = tfidf_vectorizer.transform(bow_test)"
   ]
  },
  {
   "cell_type": "code",
   "execution_count": null,
   "metadata": {
    "collapsed": true
   },
   "outputs": [],
   "source": [
    "tfidf_lda_pipeline = Pipeline([('lda',LatentDirichletAllocation(batch_size=1000, n_jobs=-1, random_state=42)),\n",
    "                             ('clf', classifier)\n",
    "                             ])\n",
    "tfidf_lda_params = {'lda__n_topics': [10, 100, 500, 1000],\n",
    "                  'lda__doc_topic_prior': [None, 0.3, 0.6, 0.9],\n",
    "                  'lda__topic_word_prior': [None, 0.3, 0.6, 0.9],\n",
    "                  'lda__learning_decay': [0.5, 0.75, 0.9],\n",
    "                  'lda__max_iter': [10, 100, 250]\n",
    "                  }"
   ]
  },
  {
   "cell_type": "code",
   "execution_count": null,
   "metadata": {
    "collapsed": true
   },
   "outputs": [],
   "source": [
    "tfidf_lda_search = RandomizedSearchCV(estimator=tfidf_lda_pipeline,\n",
    "                                    param_distributions=tfidf_lda_params,\n",
    "                                    n_iter=18,\n",
    "                                    scoring='f1_weighted',\n",
    "                                    n_jobs=-1,\n",
    "                                    verbose=1,\n",
    "                                    random_state=42\n",
    "                                    )"
   ]
  },
  {
   "cell_type": "code",
   "execution_count": null,
   "metadata": {
    "collapsed": true
   },
   "outputs": [],
   "source": [
    "tfidf_lda_search.fit(tfidf_train, train_data['genre'])"
   ]
  },
  {
   "cell_type": "code",
   "execution_count": null,
   "metadata": {
    "collapsed": true
   },
   "outputs": [],
   "source": [
    "tfidf_lda_search.grid_scores_"
   ]
  },
  {
   "cell_type": "code",
   "execution_count": null,
   "metadata": {
    "collapsed": true
   },
   "outputs": [],
   "source": [
    "tfidf_lda_search.best_params_ "
   ]
  },
  {
   "cell_type": "code",
   "execution_count": null,
   "metadata": {
    "collapsed": true
   },
   "outputs": [],
   "source": [
    "tfidf_lda_predictions = tfidf_lda_search.predict(tfidf_test)"
   ]
  },
  {
   "cell_type": "code",
   "execution_count": null,
   "metadata": {
    "collapsed": true
   },
   "outputs": [],
   "source": [
    "evaluate_prediction(tfidf_lda_predictions, test_data['genre'])"
   ]
  }
 ],
 "metadata": {
  "anaconda-cloud": {},
  "kernelspec": {
   "display_name": "Python [Root]",
   "language": "python",
   "name": "Python [Root]"
  },
  "language_info": {
   "codemirror_mode": {
    "name": "ipython",
    "version": 2
   },
   "file_extension": ".py",
   "mimetype": "text/x-python",
   "name": "python",
   "nbconvert_exporter": "python",
   "pygments_lexer": "ipython2",
   "version": "2.7.12"
  }
 },
 "nbformat": 4,
 "nbformat_minor": 0
}
