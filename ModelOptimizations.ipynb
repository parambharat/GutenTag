{
 "cells": [
  {
   "cell_type": "code",
   "execution_count": 1,
   "metadata": {
    "collapsed": true
   },
   "outputs": [],
   "source": [
    "import settings\n",
    "import logging\n",
    "import os\n",
    "from time import time\n",
    "log_file = os.path.join(settings.project_root, 'tmp', 'Model_Optimizations.log')\n",
    "logging.root.handlers = []  # Jupyter messes up logging so needs a reset\n",
    "logger = logging.getLogger('text_similar')\n",
    "logging.basicConfig(format='%(asctime)s : %(levelname)s : %(message)s',  level=logging.DEBUG, filename=log_file)"
   ]
  },
  {
   "cell_type": "code",
   "execution_count": 2,
   "metadata": {
    "collapsed": false
   },
   "outputs": [],
   "source": [
    "%matplotlib inline\n",
    "import pandas as pd\n",
    "import numpy as np\n",
    "import gensim\n",
    "from sklearn.cross_validation import train_test_split\n",
    "from sklearn.feature_extraction.text import CountVectorizer, TfidfVectorizer, TfidfTransformer\n",
    "from sklearn.ensemble import RandomForestClassifier\n",
    "from sklearn.dummy import DummyClassifier\n",
    "from sklearn.decomposition import LatentDirichletAllocation, TruncatedSVD, NMF\n",
    "from sklearn.grid_search import GridSearchCV, RandomizedSearchCV\n",
    "from sklearn.pipeline import Pipeline, FeatureUnion\n",
    "from sklearn.metrics import accuracy_score, confusion_matrix, f1_score, classification_report\n",
    "from nltk.tokenize import word_tokenize\n",
    "from nltk.stem.wordnet import WordNetLemmatizer\n",
    "import matplotlib.pyplot as plt"
   ]
  },
  {
   "cell_type": "code",
   "execution_count": 3,
   "metadata": {
    "collapsed": false
   },
   "outputs": [],
   "source": [
    "STOPWORDS = \"\"\"\n",
    "a about above across after afterwards again against all almost alone along already also although always am among amongst amoungst amount an and another any anyhow anyone anything anyway anywhere are around as at back be\n",
    "became because become becomes becoming been before beforehand behind being below beside besides between beyond bill both bottom but by call can\n",
    "cannot cant co computer con could couldnt cry de describe\n",
    "detail did didn do does doesn doing don done down due during\n",
    "each eg eight either eleven else elsewhere empty enough etc even ever every everyone everything everywhere except few fifteen\n",
    "fify fill find fire first five for former formerly forty found four from front full further get give go\n",
    "had hand has hasnt have he head hence her here hereafter hereby herein hereupon hers herself him himself his how however hundred i ie\n",
    "if in inc indeed interest into is it its itself keep last latter latterly least less ltd\n",
    "just\n",
    "kg km\n",
    "made make many may me meanwhile might mill mine more moreover most mostly move much must my myself name namely\n",
    "neither never nevertheless next nine no nobody none noone nor not nothing now nowhere of off\n",
    "often on once one only onto or other others otherwise our ours ourselves out over own part per\n",
    "perhaps please put rather re\n",
    "quite\n",
    "rather really regarding\n",
    "same say said see seem seemed seeming seems serious several she should show side since sincere six sixty so some somehow someone something sometime sometimes somewhere still such system take ten\n",
    "than that the their them themselves then thence there thereafter thereby therefore therein thereupon these they thick thin third this those though three through throughout thru thus to together too top toward towards twelve twenty two un under\n",
    "until up unless upon us used using\n",
    "various very very via\n",
    "was we well were what whatever when whence whenever where whereafter whereas whereby wherein whereupon wherever whether which while whither who whoever whole whom whose why will with within without would yet you\n",
    "your yours yourself yourselves\n",
    "\"\"\"\n",
    "STOPWORDS = {word for word in STOPWORDS.split()}\n",
    "lemmat = WordNetLemmatizer()\n",
    "def lemmatizer(story):\n",
    "    return ' '.join([lemmat.lemmatize(word.lower()) for word in story.split() if len(word)>3 and word not in STOPWORDS])"
   ]
  },
  {
   "cell_type": "code",
   "execution_count": 4,
   "metadata": {
    "collapsed": true
   },
   "outputs": [],
   "source": [
    "def load_data(f_name):\n",
    "    if os.path.isfile(f_name+'.pickle'):\n",
    "        df = pd.read_pickle(f_name+'.pickle')\n",
    "    else:\n",
    "        logger.info('Loading data into dataFrame')\n",
    "        df = pd.DataFrame([line.split(',') for line in open(f_name+'.csv')], columns=['genre', 'story'])\n",
    "        df['charlen'] = [len(story) for story in df['story']]\n",
    "        df = df[df['charlen']>2000]\n",
    "        df['story'] = df['story'].map(lemmatizer)\n",
    "        final_data_pickle = os.path.join(settings.project_root, 'tmp', 'final_data.pickle')\n",
    "        df.to_pickle(final_data_pickle)\n",
    "    return df"
   ]
  },
  {
   "cell_type": "code",
   "execution_count": 5,
   "metadata": {
    "collapsed": false
   },
   "outputs": [],
   "source": [
    "df = load_data(os.path.join(settings.project_root, 'tmp', 'data_file'))\n",
    "df = df.sample(frac=1).reset_index(drop=True)\n",
    "genres = df['genre'].unique()"
   ]
  },
  {
   "cell_type": "code",
   "execution_count": 6,
   "metadata": {
    "collapsed": false
   },
   "outputs": [],
   "source": [
    "test_size = 0.10\n",
    "logger.info('Creating Train-text split with test_size = {}'.format(test_size))\n",
    "train_data, test_data = train_test_split(df, test_size=test_size, random_state=42)"
   ]
  },
  {
   "cell_type": "code",
   "execution_count": 7,
   "metadata": {
    "collapsed": false
   },
   "outputs": [],
   "source": [
    "def plot_confusion_matrix(cm, title='Confusion matrix', cmap=plt.cm.Blues):\n",
    "    plt.imshow(cm, interpolation='nearest', cmap=cmap)\n",
    "    plt.title(title)\n",
    "    plt.colorbar()\n",
    "    tick_marks = np.arange(len(genres))\n",
    "    target_names = genres\n",
    "    plt.xticks(tick_marks, target_names, rotation=45)\n",
    "    plt.yticks(tick_marks, target_names)\n",
    "    plt.tight_layout()\n",
    "    plt.ylabel('True label')\n",
    "    plt.xlabel('Predicted label')\n",
    "\n",
    "def evaluate_prediction(predictions, target, title=\"Confusion matrix\"):\n",
    "    print('accuracy %s' % accuracy_score(target, predictions))\n",
    "    print('f1_Score : {}'.format(f1_score(target, predictions), labels=genres, pos_label=None, average='weighted'))\n",
    "    cm = confusion_matrix(target, predictions)\n",
    "    print('confusion matrix\\n %s' % cm)\n",
    "    print('(row=expected, col=predicted)')\n",
    "    print('classification report')\n",
    "    print(classification_report(predictions, target, target_names=genres))\n",
    "    \n",
    "    cm_normalized = cm.astype('float') / cm.sum(axis=1)[:, np.newaxis]\n",
    "    logger.info('plotting confusion matrix')\n",
    "    plot_confusion_matrix(cm_normalized, title + ' Normalized')"
   ]
  },
  {
   "cell_type": "code",
   "execution_count": 8,
   "metadata": {
    "collapsed": false
   },
   "outputs": [],
   "source": [
    "def dummy_predictor(samples):\n",
    "    return np.random.choice(genres, len(samples))\n",
    "baseline_predictions = dummy_predictor(test_data['story'])"
   ]
  },
  {
   "cell_type": "code",
   "execution_count": 9,
   "metadata": {
    "collapsed": false
   },
   "outputs": [
    {
     "name": "stdout",
     "output_type": "stream",
     "text": [
      "accuracy 0.202036021926\n",
      "f1_Score : 0.201990151925\n",
      "confusion matrix\n",
      " [[387 345 335 347 339]\n",
      " [370 341 316 335 395]\n",
      " [368 352 346 340 349]\n",
      " [374 371 352 370 394]\n",
      " [355 370 360 366 362]]\n",
      "(row=expected, col=predicted)\n",
      "classification report\n",
      "              precision    recall  f1-score   support\n",
      "\n",
      "      Sci-Fi       0.22      0.21      0.21      1854\n",
      "       Humor       0.19      0.19      0.19      1779\n",
      "Supernatural       0.20      0.20      0.20      1709\n",
      "      Family       0.20      0.21      0.20      1758\n",
      "     Romance       0.20      0.20      0.20      1839\n",
      "\n",
      " avg / total       0.20      0.20      0.20      8939\n",
      "\n"
     ]
    },
    {
     "name": "stderr",
     "output_type": "stream",
     "text": [
      "C:\\Users\\param_000\\Anaconda2\\lib\\site-packages\\sklearn\\metrics\\classification.py:756: DeprecationWarning: The default `weighted` averaging is deprecated, and from version 0.18, use of precision, recall or F-score with multiclass or multilabel data or pos_label=None will result in an exception. Please set an explicit value for `average`, one of (None, 'micro', 'macro', 'weighted', 'samples'). In cross validation use, for instance, scoring=\"f1_weighted\" instead of scoring=\"f1\".\n",
      "  sample_weight=sample_weight)\n"
     ]
    },
    {
     "data": {
      "image/png": "[encoded data removed]",
      "text/plain": [
       "<matplotlib.figure.Figure at 0x54832240>"
      ]
     },
     "metadata": {},
     "output_type": "display_data"
    }
   ],
   "source": [
    "evaluate_prediction(baseline_predictions, test_data['genre'])"
   ]
  },
  {
   "cell_type": "code",
   "execution_count": 10,
   "metadata": {
    "collapsed": false
   },
   "outputs": [],
   "source": [
    "bow_params = {'analyzer': 'word',\n",
    "              'tokenizer': word_tokenize,\n",
    "              'max_df': 0.5,\n",
    "              'max_features': 50000,\n",
    "              'min_df': 10\n",
    "             }\n",
    "\n",
    "classifier_params = {'n_estimators': 100,\n",
    "                     'criterion': 'gini',\n",
    "                     'min_samples_split': 5,\n",
    "                     'bootstrap': False,\n",
    "                     'n_jobs': -1, \n",
    "                     'random_state':42\n",
    "                    }\n",
    "\n",
    "# tfidf_params = bow_params.copy()\n",
    "tfidf_params = {'norm': 'l1', 'use_idf': True}\n",
    "\n",
    "\n",
    "\n",
    "bow_vectorizer = CountVectorizer(**bow_params)\n",
    "tfidf_vectorizer = TfidfTransformer(**tfidf_params)\n",
    "classifier = RandomForestClassifier(**classifier_params)"
   ]
  },
  {
   "cell_type": "code",
   "execution_count": 11,
   "metadata": {
    "collapsed": false
   },
   "outputs": [],
   "source": [
    "bow_train = bow_vectorizer.fit_transform(train_data['story'])\n",
    "bow_test = bow_vectorizer.transform(test_data['story'])"
   ]
  },
  {
   "cell_type": "code",
   "execution_count": 12,
   "metadata": {
    "collapsed": true
   },
   "outputs": [],
   "source": [
    "bow_nmf_params = {'NMF__n_components': [5, 25, 100, 150],\n",
    "                  'NMF__tol': [0.0001, 0.001, 0.005], \n",
    "                  'NMF__max_iter': [100, 300, 500]\n",
    "                  }"
   ]
  },
  {
   "cell_type": "code",
   "execution_count": 13,
   "metadata": {
    "collapsed": false
   },
   "outputs": [],
   "source": [
    "bow_nmf = Pipeline([('NMF', NMF(init='nndsvd', solver='cd', random_state=42)),\n",
    "                    ('classifier', classifier)\n",
    "                    ])"
   ]
  },
  {
   "cell_type": "code",
   "execution_count": 14,
   "metadata": {
    "collapsed": false
   },
   "outputs": [],
   "source": [
    "bow_nmf_grid_search = RandomizedSearchCV(estimator=bow_nmf,\n",
    "                                         param_distributions=bow_nmf_params,\n",
    "                                         n_iter=10,\n",
    "                                         scoring='f1_weighted',\n",
    "                                         n_jobs=-1,\n",
    "                                         verbose=1,\n",
    "                                         random_state=42\n",
    "                                         )"
   ]
  },
  {
   "cell_type": "code",
   "execution_count": 15,
   "metadata": {
    "collapsed": false
   },
   "outputs": [
    {
     "name": "stdout",
     "output_type": "stream",
     "text": [
      "Fitting 3 folds for each of 10 candidates, totalling 30 fits\n"
     ]
    },
    {
     "name": "stderr",
     "output_type": "stream",
     "text": [
      "[Parallel(n_jobs=-1)]: Done  30 out of  30 | elapsed: 219.1min finished\n"
     ]
    },
    {
     "data": {
      "text/plain": [
       "RandomizedSearchCV(cv=None, error_score='raise',\n",
       "          estimator=Pipeline(steps=[('NMF', NMF(alpha=0.0, beta=1, eta=0.1, init='nndsvd', l1_ratio=0.0, max_iter=200,\n",
       "  n_components=None, nls_max_iter=2000, random_state=42, shuffle=False,\n",
       "  solver='cd', sparseness=None, tol=0.0001, verbose=0)), ('classifier', RandomForestClassifier(bootstrap=False, class_weight=None, criteri...imators=100, n_jobs=-1,\n",
       "            oob_score=False, random_state=42, verbose=0, warm_start=False))]),\n",
       "          fit_params={}, iid=True, n_iter=10, n_jobs=-1,\n",
       "          param_distributions={'NMF__n_components': [5, 25, 100, 150], 'NMF__tol': [0.0001, 0.001, 0.005], 'NMF__max_iter': [100, 300, 500]},\n",
       "          pre_dispatch='2*n_jobs', random_state=42, refit=True,\n",
       "          scoring='f1_weighted', verbose=1)"
      ]
     },
     "execution_count": 15,
     "metadata": {},
     "output_type": "execute_result"
    }
   ],
   "source": [
    "bow_nmf_grid_search.fit(bow_train, train_data['genre'])"
   ]
  },
  {
   "cell_type": "code",
   "execution_count": 16,
   "metadata": {
    "collapsed": false
   },
   "outputs": [
    {
     "data": {
      "text/plain": [
       "[mean: 0.53731, std: 0.00250, params: {'NMF__n_components': 25, 'NMF__tol': 0.001, 'NMF__max_iter': 500},\n",
       " mean: 0.35382, std: 0.02347, params: {'NMF__n_components': 5, 'NMF__tol': 0.005, 'NMF__max_iter': 300},\n",
       " mean: 0.56957, std: 0.00553, params: {'NMF__n_components': 100, 'NMF__tol': 0.001, 'NMF__max_iter': 100},\n",
       " mean: 0.56920, std: 0.00483, params: {'NMF__n_components': 100, 'NMF__tol': 0.005, 'NMF__max_iter': 300},\n",
       " mean: 0.56597, std: 0.00394, params: {'NMF__n_components': 100, 'NMF__tol': 0.0001, 'NMF__max_iter': 300},\n",
       " mean: 0.57286, std: 0.00523, params: {'NMF__n_components': 150, 'NMF__tol': 0.001, 'NMF__max_iter': 300},\n",
       " mean: 0.57286, std: 0.00523, params: {'NMF__n_components': 150, 'NMF__tol': 0.001, 'NMF__max_iter': 100},\n",
       " mean: 0.57449, std: 0.00408, params: {'NMF__n_components': 150, 'NMF__tol': 0.005, 'NMF__max_iter': 300},\n",
       " mean: 0.57449, std: 0.00408, params: {'NMF__n_components': 150, 'NMF__tol': 0.005, 'NMF__max_iter': 500},\n",
       " mean: 0.35382, std: 0.02347, params: {'NMF__n_components': 5, 'NMF__tol': 0.005, 'NMF__max_iter': 100}]"
      ]
     },
     "execution_count": 16,
     "metadata": {},
     "output_type": "execute_result"
    }
   ],
   "source": [
    "bow_nmf_grid_search.grid_scores_"
   ]
  },
  {
   "cell_type": "code",
   "execution_count": 17,
   "metadata": {
    "collapsed": false
   },
   "outputs": [
    {
     "data": {
      "text/plain": [
       "{'NMF__max_iter': 300, 'NMF__n_components': 150, 'NMF__tol': 0.005}"
      ]
     },
     "execution_count": 17,
     "metadata": {},
     "output_type": "execute_result"
    }
   ],
   "source": [
    "bow_nmf_grid_search.best_params_ "
   ]
  },
  {
   "cell_type": "code",
   "execution_count": 18,
   "metadata": {
    "collapsed": true
   },
   "outputs": [],
   "source": [
    "bow_nmf_predictions = bow_nmf_grid_search.predict(bow_test)"
   ]
  },
  {
   "cell_type": "code",
   "execution_count": 19,
   "metadata": {
    "collapsed": false
   },
   "outputs": [
    {
     "name": "stdout",
     "output_type": "stream",
     "text": [
      "accuracy 0.600514598948\n",
      "f1_Score : 0.597689010304\n",
      "confusion matrix\n",
      " [[1098  145  203  146  161]\n",
      " [ 234  822  331  192  178]\n",
      " [ 307  272  869   98  209]\n",
      " [ 111  145   82 1376  147]\n",
      " [ 166  132  154  158 1203]]\n",
      "(row=expected, col=predicted)\n",
      "classification report\n",
      "              precision    recall  f1-score   support\n",
      "\n",
      "      Sci-Fi       0.63      0.57      0.60      1916\n",
      "       Humor       0.47      0.54      0.50      1516\n",
      "Supernatural       0.50      0.53      0.51      1639\n",
      "      Family       0.74      0.70      0.72      1970\n",
      "     Romance       0.66      0.63      0.65      1898\n",
      "\n",
      " avg / total       0.61      0.60      0.60      8939\n",
      "\n"
     ]
    },
    {
     "name": "stderr",
     "output_type": "stream",
     "text": [
      "C:\\Users\\param_000\\Anaconda2\\lib\\site-packages\\sklearn\\metrics\\classification.py:756: DeprecationWarning: The default `weighted` averaging is deprecated, and from version 0.18, use of precision, recall or F-score with multiclass or multilabel data or pos_label=None will result in an exception. Please set an explicit value for `average`, one of (None, 'micro', 'macro', 'weighted', 'samples'). In cross validation use, for instance, scoring=\"f1_weighted\" instead of scoring=\"f1\".\n",
      "  sample_weight=sample_weight)\n"
     ]
    },
    {
     "data": {
      "image/png": "[encoded data removed]",
      "text/plain": [
       "<matplotlib.figure.Figure at 0x39200b8>"
      ]
     },
     "metadata": {},
     "output_type": "display_data"
    }
   ],
   "source": [
    "evaluate_prediction(bow_nmf_predictions, test_data['genre'])"
   ]
  },
  {
   "cell_type": "code",
   "execution_count": 21,
   "metadata": {
    "collapsed": false
   },
   "outputs": [],
   "source": [
    "tfidf_train = tfidf_vectorizer.fit_transform(bow_train)\n",
    "tfidf_test = tfidf_vectorizer.transform(bow_test)"
   ]
  },
  {
   "cell_type": "code",
   "execution_count": 22,
   "metadata": {
    "collapsed": true
   },
   "outputs": [],
   "source": [
    "tfidf_nmf_params = {'NMF__n_components':[5, 25, 100, 150],\n",
    "                    'NMF__tol': [0.0001, 0.001, 0.005], \n",
    "                    'NMF__max_iter': [100, 300, 500]\n",
    "                    }"
   ]
  },
  {
   "cell_type": "code",
   "execution_count": 23,
   "metadata": {
    "collapsed": true
   },
   "outputs": [],
   "source": [
    "tfidf_nmf = Pipeline([('NMF', NMF(init='nndsvd', solver='cd', random_state=42)),\n",
    "                      ('classifier', classifier)\n",
    "                      ])"
   ]
  },
  {
   "cell_type": "code",
   "execution_count": 24,
   "metadata": {
    "collapsed": false
   },
   "outputs": [],
   "source": [
    "tfidf_nmf_grid_search = RandomizedSearchCV(estimator=tfidf_nmf,\n",
    "                                           param_distributions=tfidf_nmf_params,\n",
    "                                           n_iter=10,\n",
    "                                           scoring='f1_weighted',\n",
    "                                           n_jobs=-1,\n",
    "                                           verbose=1,\n",
    "                                           random_state=42\n",
    "                                           )"
   ]
  },
  {
   "cell_type": "code",
   "execution_count": 25,
   "metadata": {
    "collapsed": false
   },
   "outputs": [
    {
     "name": "stdout",
     "output_type": "stream",
     "text": [
      "Fitting 3 folds for each of 10 candidates, totalling 30 fits\n"
     ]
    },
    {
     "name": "stderr",
     "output_type": "stream",
     "text": [
      "[Parallel(n_jobs=-1)]: Done  30 out of  30 | elapsed: 144.8min finished\n"
     ]
    },
    {
     "data": {
      "text/plain": [
       "RandomizedSearchCV(cv=None, error_score='raise',\n",
       "          estimator=Pipeline(steps=[('NMF', NMF(alpha=0.0, beta=1, eta=0.1, init='nndsvd', l1_ratio=0.0, max_iter=200,\n",
       "  n_components=None, nls_max_iter=2000, random_state=42, shuffle=False,\n",
       "  solver='cd', sparseness=None, tol=0.0001, verbose=0)), ('classifier', RandomForestClassifier(bootstrap=False, class_weight=None, criteri...imators=100, n_jobs=-1,\n",
       "            oob_score=False, random_state=42, verbose=0, warm_start=False))]),\n",
       "          fit_params={}, iid=True, n_iter=10, n_jobs=-1,\n",
       "          param_distributions={'NMF__n_components': [5, 25, 100, 150], 'NMF__tol': [0.0001, 0.001, 0.005], 'NMF__max_iter': [100, 300, 500]},\n",
       "          pre_dispatch='2*n_jobs', random_state=42, refit=True,\n",
       "          scoring='f1_weighted', verbose=1)"
      ]
     },
     "execution_count": 25,
     "metadata": {},
     "output_type": "execute_result"
    }
   ],
   "source": [
    "tfidf_nmf_grid_search.fit(tfidf_train, train_data['genre'])"
   ]
  },
  {
   "cell_type": "code",
   "execution_count": 26,
   "metadata": {
    "collapsed": false
   },
   "outputs": [
    {
     "data": {
      "text/plain": [
       "[mean: 0.54301, std: 0.00257, params: {'NMF__n_components': 25, 'NMF__tol': 0.001, 'NMF__max_iter': 500},\n",
       " mean: 0.34101, std: 0.00566, params: {'NMF__n_components': 5, 'NMF__tol': 0.005, 'NMF__max_iter': 300},\n",
       " mean: 0.58680, std: 0.00233, params: {'NMF__n_components': 100, 'NMF__tol': 0.001, 'NMF__max_iter': 100},\n",
       " mean: 0.58624, std: 0.00316, params: {'NMF__n_components': 100, 'NMF__tol': 0.005, 'NMF__max_iter': 300},\n",
       " mean: 0.58714, std: 0.00292, params: {'NMF__n_components': 100, 'NMF__tol': 0.0001, 'NMF__max_iter': 300},\n",
       " mean: 0.58868, std: 0.00512, params: {'NMF__n_components': 150, 'NMF__tol': 0.001, 'NMF__max_iter': 300},\n",
       " mean: 0.58868, std: 0.00512, params: {'NMF__n_components': 150, 'NMF__tol': 0.001, 'NMF__max_iter': 100},\n",
       " mean: 0.59057, std: 0.00391, params: {'NMF__n_components': 150, 'NMF__tol': 0.005, 'NMF__max_iter': 300},\n",
       " mean: 0.59057, std: 0.00391, params: {'NMF__n_components': 150, 'NMF__tol': 0.005, 'NMF__max_iter': 500},\n",
       " mean: 0.34101, std: 0.00566, params: {'NMF__n_components': 5, 'NMF__tol': 0.005, 'NMF__max_iter': 100}]"
      ]
     },
     "execution_count": 26,
     "metadata": {},
     "output_type": "execute_result"
    }
   ],
   "source": [
    "tfidf_nmf_grid_search.grid_scores_"
   ]
  },
  {
   "cell_type": "code",
   "execution_count": 27,
   "metadata": {
    "collapsed": false
   },
   "outputs": [
    {
     "data": {
      "text/plain": [
       "{'NMF__max_iter': 300, 'NMF__n_components': 150, 'NMF__tol': 0.005}"
      ]
     },
     "execution_count": 27,
     "metadata": {},
     "output_type": "execute_result"
    }
   ],
   "source": [
    "tfidf_nmf_grid_search.best_params_ "
   ]
  },
  {
   "cell_type": "code",
   "execution_count": 28,
   "metadata": {
    "collapsed": true
   },
   "outputs": [],
   "source": [
    "tfidf_nmf_predictions = tfidf_nmf_grid_search.predict(tfidf_test)"
   ]
  },
  {
   "cell_type": "code",
   "execution_count": 29,
   "metadata": {
    "collapsed": false
   },
   "outputs": [
    {
     "name": "stdout",
     "output_type": "stream",
     "text": [
      "accuracy 0.62490211433\n",
      "f1_Score : 0.62339088568\n",
      "confusion matrix\n",
      " [[1104  181  216  115  137]\n",
      " [ 194  915  330  162  156]\n",
      " [ 261  291  904   91  208]\n",
      " [ 106  126   72 1427  130]\n",
      " [ 163  153  136  125 1236]]\n",
      "(row=expected, col=predicted)\n",
      "classification report\n",
      "              precision    recall  f1-score   support\n",
      "\n",
      "      Sci-Fi       0.63      0.60      0.62      1828\n",
      "       Humor       0.52      0.55      0.53      1666\n",
      "Supernatural       0.52      0.55      0.53      1658\n",
      "      Family       0.77      0.74      0.75      1920\n",
      "     Romance       0.68      0.66      0.67      1867\n",
      "\n",
      " avg / total       0.63      0.62      0.63      8939\n",
      "\n"
     ]
    },
    {
     "name": "stderr",
     "output_type": "stream",
     "text": [
      "C:\\Users\\param_000\\Anaconda2\\lib\\site-packages\\sklearn\\metrics\\classification.py:756: DeprecationWarning: The default `weighted` averaging is deprecated, and from version 0.18, use of precision, recall or F-score with multiclass or multilabel data or pos_label=None will result in an exception. Please set an explicit value for `average`, one of (None, 'micro', 'macro', 'weighted', 'samples'). In cross validation use, for instance, scoring=\"f1_weighted\" instead of scoring=\"f1\".\n",
      "  sample_weight=sample_weight)\n"
     ]
    },
    {
     "data": {
      "image/png": "[encoded data removed]",
      "text/plain": [
       "<matplotlib.figure.Figure at 0x58f511d0>"
      ]
     },
     "metadata": {},
     "output_type": "display_data"
    }
   ],
   "source": [
    "evaluate_prediction(tfidf_nmf_predictions, test_data['genre'])"
   ]
  },
  {
   "cell_type": "code",
   "execution_count": 34,
   "metadata": {
    "collapsed": false
   },
   "outputs": [],
   "source": [
    "from sklearn.decomposition import LatentDirichletAllocation\n",
    "from sklearn.svm import LinearSVC\n",
    "bow_lda_pipeline = Pipeline([('lda',LatentDirichletAllocation(batch_size=1000, evaluate_every=10, n_jobs=-1, random_state=42)),\n",
    "                             ('clf', LinearSVC(random_state=42, verbose=1))\n",
    "                             ])\n",
    "bow_lda_params = {'clf__C': [0.1, 1.0, 10],\n",
    "                  'clf__class_weight': [None, 'Balanced'],\n",
    "                  'clf__penalty': ['l1', 'l2'],\n",
    "                  'clf__max_iter': [1000, 2500, 5000],\n",
    "                  'lda__n_topics': [10, 100, 1000],\n",
    "                  'lda__learning_decay': [0.5, 0.75, 0.9],\n",
    "                  'lda__max_iter': [10, 100, 250]\n",
    "                  }"
   ]
  },
  {
   "cell_type": "code",
   "execution_count": 36,
   "metadata": {
    "collapsed": false
   },
   "outputs": [],
   "source": [
    "bow_lda_search = RandomizedSearchCV(estimator=bow_lda_pipeline,\n",
    "                                    param_distributions=bow_lda_params,\n",
    "                                    n_iter=18,\n",
    "                                    scoring='f1_weighted',\n",
    "                                    n_jobs=-1,\n",
    "                                    verbose=1,\n",
    "                                    random_state=42\n",
    "                                    )"
   ]
  },
  {
   "cell_type": "code",
   "execution_count": null,
   "metadata": {
    "collapsed": false
   },
   "outputs": [
    {
     "name": "stdout",
     "output_type": "stream",
     "text": [
      "Fitting 3 folds for each of 18 candidates, totalling 54 fits\n"
     ]
    }
   ],
   "source": [
    "bow_lda_search.fit(bow_train, train_data['genre'])"
   ]
  },
  {
   "cell_type": "code",
   "execution_count": null,
   "metadata": {
    "collapsed": true
   },
   "outputs": [],
   "source": [
    "bow_lda_search.grid_scores_"
   ]
  },
  {
   "cell_type": "code",
   "execution_count": null,
   "metadata": {
    "collapsed": true
   },
   "outputs": [],
   "source": [
    "bow_lda_search.best_params_ "
   ]
  },
  {
   "cell_type": "code",
   "execution_count": null,
   "metadata": {
    "collapsed": true
   },
   "outputs": [],
   "source": [
    "bow_lda_predictions = bow_lda_search.predict(bow_test)"
   ]
  },
  {
   "cell_type": "code",
   "execution_count": null,
   "metadata": {
    "collapsed": true
   },
   "outputs": [],
   "source": [
    "evaluate_prediction(bow_lda_predictions, test_data['genre'])"
   ]
  },
  {
   "cell_type": "code",
   "execution_count": null,
   "metadata": {
    "collapsed": true
   },
   "outputs": [],
   "source": [
    "from sklearn.decomposition import LatentDirichletAllocation\n",
    "from sklearn.svm import LinearSVC\n",
    "bow_lda_pipeline = Pipeline([('lda',LatentDirichletAllocation(batch_size=1000, evaluate_every=10, n_jobs=-1, random_state=42)),\n",
    "                             ('clf', LinearSVC(random_state=42, verbose=1))\n",
    "                             ])\n",
    "bow_lda_params = {'clf__C': [0.1, 1.0, 10],\n",
    "                  'clf__class_weight': [None, 'Balanced'],\n",
    "                  'clf__penalty': ['l1', 'l2'],\n",
    "                  'clf__max_iter': [1000, 2500, 5000],\n",
    "                  'lda__n_topics': [10, 100, 1000],\n",
    "                  'lda__learning_decay': [0.5, 0.75, 0.9],\n",
    "                  'lda__max_iter': [10, 100, 250]\n",
    "                  }"
   ]
  },
  {
   "cell_type": "code",
   "execution_count": null,
   "metadata": {
    "collapsed": true
   },
   "outputs": [],
   "source": []
  }
 ],
 "metadata": {
  "anaconda-cloud": {},
  "kernelspec": {
   "display_name": "Python [Root]",
   "language": "python",
   "name": "Python [Root]"
  },
  "language_info": {
   "codemirror_mode": {
    "name": "ipython",
    "version": 2
   },
   "file_extension": ".py",
   "mimetype": "text/x-python",
   "name": "python",
   "nbconvert_exporter": "python",
   "pygments_lexer": "ipython2",
   "version": "2.7.12"
  }
 },
 "nbformat": 4,
 "nbformat_minor": 0
}
